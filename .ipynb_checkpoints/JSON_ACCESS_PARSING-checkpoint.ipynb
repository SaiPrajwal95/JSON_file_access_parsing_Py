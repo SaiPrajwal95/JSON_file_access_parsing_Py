{
 "cells": [
  {
   "cell_type": "markdown",
   "metadata": {},
   "source": [
    "# JSON file access notes"
   ]
  },
  {
   "cell_type": "markdown",
   "metadata": {},
   "source": [
    "### From a local JSON file"
   ]
  },
  {
   "cell_type": "code",
   "execution_count": 1,
   "metadata": {},
   "outputs": [],
   "source": [
    "import json\n",
    "import gdal"
   ]
  },
  {
   "cell_type": "code",
   "execution_count": 2,
   "metadata": {},
   "outputs": [],
   "source": [
    "students = []\n",
    "for line in open('students.json', 'r'):\n",
    "    students.append(json.loads(line))"
   ]
  },
  {
   "cell_type": "code",
   "execution_count": 3,
   "metadata": {},
   "outputs": [],
   "source": [
    "import numpy as np\n",
    "students_ndarray = np.array(students)"
   ]
  },
  {
   "cell_type": "code",
   "execution_count": 4,
   "metadata": {},
   "outputs": [
    {
     "data": {
      "text/plain": [
       "{'_id': 1,\n",
       " 'name': 'Aurelia Menendez',\n",
       " 'scores': [{'score': 60.06045071030959, 'type': 'exam'},\n",
       "  {'score': 52.79790691903873, 'type': 'quiz'},\n",
       "  {'score': 71.76133439165544, 'type': 'homework'}]}"
      ]
     },
     "execution_count": 4,
     "metadata": {},
     "output_type": "execute_result"
    }
   ],
   "source": [
    "students_ndarray[1]"
   ]
  },
  {
   "cell_type": "code",
   "execution_count": 5,
   "metadata": {},
   "outputs": [
    {
     "data": {
      "text/plain": [
       "60.06045071030959"
      ]
     },
     "execution_count": 5,
     "metadata": {},
     "output_type": "execute_result"
    }
   ],
   "source": [
    "students_ndarray[1]['scores'][0]['score']"
   ]
  },
  {
   "cell_type": "markdown",
   "metadata": {},
   "source": [
    "### From a web link"
   ]
  },
  {
   "cell_type": "code",
   "execution_count": 6,
   "metadata": {},
   "outputs": [
    {
     "name": "stdout",
     "output_type": "stream",
     "text": [
      "Molecule Man\n",
      "Madame Uppercut\n",
      "Eternal Flame\n"
     ]
    }
   ],
   "source": [
    "import requests\n",
    "\n",
    "resp = requests.get('https://mdn.github.io/learning-area/javascript/oojs/json/superheroes.json')\n",
    "if resp.status_code != 200:\n",
    "    # This means something went wrong.\n",
    "    raise ApiError('GET /tasks/ {}'.format(resp.status_code))\n",
    "#for todo_item in resp.json():\n",
    "#    print('{} {}'.format(todo_item['id'], todo_item['summary']))\n",
    "#\n",
    "#var requestURL = 'https://mdn.github.io/learning-area/javascript/oojs/json/superheroes.json'\n",
    "#print resp.json()\n",
    "for k, v in resp.json().items():\n",
    "    #print k\n",
    "    if k == 'members':\n",
    "        #print v\n",
    "        for mems in v:\n",
    "            print(mems['name'])"
   ]
  },
  {
   "cell_type": "markdown",
   "metadata": {},
   "source": [
    "### JSON lecture by Corey Schafer (Includes Web API communication)"
   ]
  },
  {
   "cell_type": "markdown",
   "metadata": {},
   "source": [
    "First step is to import json which would be avaiable as a default library in Python.\n",
    "\n",
    "Example for a JSON string:\n",
    "people_string = '''\n",
    "{\n",
    "    \"people\":[\n",
    "    {\n",
    "        \"name\":\"Sai Kotamraju\",\n",
    "        \"phone\":\"602-420-3350\",\n",
    "        \"emails\":[\"skotamra@asu.edu\",\"saiprajwal.kotamraju@gmail.com\"],\n",
    "        \"has_licesnse\":true\n",
    "    },\n",
    "    {\n",
    "        \"name\":\"Jane Doe\",\n",
    "        \"phone\":\"602-420-3555\",\n",
    "        \"emails\":null,\n",
    "        \"has_licesnse\":false\n",
    "    }\n",
    "  ]\n",
    "}\n",
    "'''\n",
    "\n",
    "Let's see how to load a json string as a dictionary."
   ]
  },
  {
   "cell_type": "code",
   "execution_count": 7,
   "metadata": {},
   "outputs": [],
   "source": [
    "import json\n",
    "\n",
    "people_string = '''\n",
    "{\n",
    "    \"people\":[\n",
    "    {\n",
    "        \"name\":\"Sai Kotamraju\",\n",
    "        \"phone\":\"602-420-3350\",\n",
    "        \"emails\":[\"skotamra@asu.edu\",\"saiprajwal.kotamraju@gmail.com\"],\n",
    "        \"has_licesnse\":true\n",
    "    },\n",
    "    {\n",
    "        \"name\":\"Jane Doe\",\n",
    "        \"phone\":\"602-420-3555\",\n",
    "        \"emails\":null,\n",
    "        \"has_licesnse\":false\n",
    "    }\n",
    "  ]\n",
    "}\n",
    "'''"
   ]
  },
  {
   "cell_type": "code",
   "execution_count": 8,
   "metadata": {},
   "outputs": [
    {
     "name": "stdout",
     "output_type": "stream",
     "text": [
      "<class 'dict'>\n",
      "{'people': [{'name': 'Sai Kotamraju', 'phone': '602-420-3350', 'emails': ['skotamra@asu.edu', 'saiprajwal.kotamraju@gmail.com'], 'has_licesnse': True}, {'name': 'Jane Doe', 'phone': '602-420-3555', 'emails': None, 'has_licesnse': False}]}\n"
     ]
    }
   ],
   "source": [
    "data = json.loads(people_string)\n",
    "print(type(data)) #Loads as a dictionary\n",
    "# Converts true to True and false to False\n",
    "# Converts null to None\n",
    "print(data)"
   ]
  },
  {
   "cell_type": "code",
   "execution_count": 9,
   "metadata": {},
   "outputs": [
    {
     "name": "stdout",
     "output_type": "stream",
     "text": [
      "Sai Kotamraju\n",
      "Jane Doe\n"
     ]
    }
   ],
   "source": [
    "for person in data['people']:\n",
    "    print(person['name'])"
   ]
  },
  {
   "cell_type": "markdown",
   "metadata": {},
   "source": [
    "Let's see how to convert a dictionary to json string format."
   ]
  },
  {
   "cell_type": "code",
   "execution_count": 10,
   "metadata": {},
   "outputs": [
    {
     "name": "stdout",
     "output_type": "stream",
     "text": [
      "{\n",
      "  \"people\": [\n",
      "    {\n",
      "      \"emails\": [\n",
      "        \"skotamra@asu.edu\",\n",
      "        \"saiprajwal.kotamraju@gmail.com\"\n",
      "      ],\n",
      "      \"has_licesnse\": true,\n",
      "      \"name\": \"Sai Kotamraju\"\n",
      "    },\n",
      "    {\n",
      "      \"emails\": null,\n",
      "      \"has_licesnse\": false,\n",
      "      \"name\": \"Jane Doe\"\n",
      "    }\n",
      "  ]\n",
      "}\n"
     ]
    }
   ],
   "source": [
    "# Small modification to a json dictionary\n",
    "data_copy = data.copy()\n",
    "for person in data_copy['people']:\n",
    "    del person['phone']\n",
    "\n",
    "new_string = json.dumps(data_copy, indent=2, sort_keys = True) #indent helps a lot for reading\n",
    "print(new_string)"
   ]
  },
  {
   "cell_type": "code",
   "execution_count": 11,
   "metadata": {},
   "outputs": [],
   "source": [
    "with open('states.json') as f:\n",
    "    data = json.load(f)\n",
    "data_copy = data.copy()\n",
    "\n",
    "for state in data_copy['states']:\n",
    "    # print state['name'], state['abbreviation']\n",
    "    # Modify something in file\n",
    "    del state['area_codes']\n",
    "\n",
    "# Dumping the data_copy to a file\n",
    "with open('new_states.json','w') as f:\n",
    "    json.dump(data_copy, f, indent=2)"
   ]
  },
  {
   "cell_type": "markdown",
   "metadata": {},
   "source": [
    "Parsing data from a public API"
   ]
  },
  {
   "cell_type": "code",
   "execution_count": 12,
   "metadata": {},
   "outputs": [],
   "source": [
    "'''\n",
    "from urllib import urlopen\n",
    "\n",
    "with urlopen(\"https://finance.yahoo.com/webservice/v1/symbols/allcurrencies/quote?format=json\") as response:\n",
    "    source = response.read() # Gets the response from the website as a string\n",
    "\n",
    "data = json.loads(source)\n",
    "\n",
    "print(json.dumps(data,indent=2))\n",
    "'''\n",
    "import requests\n",
    "\n",
    "resp = requests.get('https://finance.yahoo.com/webservice/v1/symbols/allcurrencies/quote?format=json')"
   ]
  },
  {
   "cell_type": "code",
   "execution_count": 13,
   "metadata": {},
   "outputs": [],
   "source": [
    "data = resp.json()\n",
    "# print(json.dumps(data,indent=2))\n",
    "\n",
    "# print json.dumps(data['list']['resources'][0]['resource']['fields']['name'], indent = 2)\n",
    "\n",
    "for item in data['list']['resources']:\n",
    "    fields = item['resource']['fields']\n",
    "    # print fields['name']\n",
    "    # Price = item['resource']['fields'][\"price\"]\n"
   ]
  },
  {
   "cell_type": "markdown",
   "metadata": {},
   "source": [
    "### GeoJSON basic example from web API"
   ]
  },
  {
   "cell_type": "code",
   "execution_count": 14,
   "metadata": {},
   "outputs": [],
   "source": [
    "import urllib\n",
    "serviceurl = 'http://maps.googleapis.com/maps/api/geocode/json?'\n",
    "address = 'mountain view, ca'\n",
    "url = serviceurl + urllib.parse.urlencode({'address': address})\n",
    "uh = urllib.request.urlopen(url)\n",
    "data = uh.read().decode()"
   ]
  },
  {
   "cell_type": "code",
   "execution_count": 15,
   "metadata": {},
   "outputs": [],
   "source": [
    "js = json.loads(data)"
   ]
  },
  {
   "cell_type": "code",
   "execution_count": 16,
   "metadata": {},
   "outputs": [],
   "source": [
    "# print(json.dumps(js,indent=2))\n",
    "latitude = js['results'][0]['geometry']['location']['lat']\n",
    "longitude = js['results'][0]['geometry']['location']['lng']"
   ]
  },
  {
   "cell_type": "code",
   "execution_count": 17,
   "metadata": {},
   "outputs": [
    {
     "name": "stdout",
     "output_type": "stream",
     "text": [
      "37.3860517 -122.0838511\n"
     ]
    }
   ],
   "source": [
    "print(latitude,longitude)"
   ]
  },
  {
   "cell_type": "markdown",
   "metadata": {},
   "source": [
    "### Flask with JSON"
   ]
  },
  {
   "cell_type": "code",
   "execution_count": 18,
   "metadata": {},
   "outputs": [],
   "source": [
    "from flask import Flask, request"
   ]
  },
  {
   "cell_type": "code",
   "execution_count": 19,
   "metadata": {},
   "outputs": [],
   "source": [
    "app = Flask(__name__)"
   ]
  },
  {
   "cell_type": "markdown",
   "metadata": {},
   "source": [
    "### GeoJSON SpaceNet example"
   ]
  },
  {
   "cell_type": "code",
   "execution_count": 20,
   "metadata": {},
   "outputs": [],
   "source": [
    "from urllib.request import urlopen\n",
    "\n",
    "with urlopen(\"https://raw.githubusercontent.com/johan/world.geo.json/master/countries.geo.json\") as response:\n",
    "    source = response.read()\n",
    "\n",
    "data_dict = json.loads(source)"
   ]
  },
  {
   "cell_type": "code",
   "execution_count": 23,
   "metadata": {},
   "outputs": [],
   "source": [
    "# print(json.dumps(data_dict,indent=2))"
   ]
  },
  {
   "cell_type": "code",
   "execution_count": 22,
   "metadata": {},
   "outputs": [
    {
     "data": {
      "text/plain": [
       "[[61.210817, 35.650072],\n",
       " [62.230651, 35.270664],\n",
       " [62.984662, 35.404041],\n",
       " [63.193538, 35.857166],\n",
       " [63.982896, 36.007957],\n",
       " [64.546479, 36.312073],\n",
       " [64.746105, 37.111818],\n",
       " [65.588948, 37.305217],\n",
       " [65.745631, 37.661164],\n",
       " [66.217385, 37.39379]]"
      ]
     },
     "execution_count": 22,
     "metadata": {},
     "output_type": "execute_result"
    }
   ],
   "source": [
    "data_dict['features'][0]['geometry']['coordinates'][0][0:10]"
   ]
  },
  {
   "cell_type": "code",
   "execution_count": null,
   "metadata": {},
   "outputs": [],
   "source": []
  }
 ],
 "metadata": {
  "kernelspec": {
   "display_name": "Python [conda env:py36]",
   "language": "python",
   "name": "conda-env-py36-py"
  },
  "language_info": {
   "codemirror_mode": {
    "name": "ipython",
    "version": 3
   },
   "file_extension": ".py",
   "mimetype": "text/x-python",
   "name": "python",
   "nbconvert_exporter": "python",
   "pygments_lexer": "ipython3",
   "version": "3.6.5"
  }
 },
 "nbformat": 4,
 "nbformat_minor": 2
}
